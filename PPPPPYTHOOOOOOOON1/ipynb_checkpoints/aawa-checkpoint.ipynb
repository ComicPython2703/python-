{
 "cells": [
  {
   "cell_type": "raw",
   "id": "3a20c7944aaf6db8",
   "metadata": {},
   "source": [
    "# coding=utf-8\n",
    "# awa awa"
   ]
  },
  {
   "cell_type": "code",
   "execution_count": null,
   "id": "73cde0e30aa849c2",
   "metadata": {
    "jupyter": {
     "is_executing": true
    }
   },
   "outputs": [],
   "source": [
    "print(\"a\")\n",
    "print(\"b\")"
   ]
  },
  {
   "cell_type": "code",
   "execution_count": 2,
   "id": "a2ca297445a20256",
   "metadata": {
    "ExecuteTime": {
     "end_time": "2025-08-03T03:19:26.230154Z",
     "start_time": "2025-06-15T03:51:13.944459Z"
    }
   },
   "outputs": [],
   "source": [
    "import turtle\n",
    "t=turtle.Turtle()\n",
    "t.forward(100)"
   ]
  },
  {
   "cell_type": "code",
   "execution_count": 2,
   "id": "89b083ffe1ff0018",
   "metadata": {
    "jupyter": {
     "is_executing": true
    }
   },
   "outputs": [],
   "source": [
    "import tkinter as tk\n",
    "from tkinter import messagebox\n",
    "root = tk.Tk()\n",
    "root.title(\"Program for file=[11.10（TK库）]\")\n",
    "root.geometry('700x600')\n",
    "# ============{创建函数}=================\n",
    "def say_ni():\n",
    "    print(\"亻尓女马\")\n",
    "def say_hi():\n",
    "    messagebox.showinfo(\"nihao\", \"woshi\")\n",
    "# ==========={主程序}=================\n",
    "button1 = tk.Button(root, text=\"TEST\", width=25, height=2, bg='SkyBlue', command=say_ni)\n",
    "button2 = tk.Button(root, text=\"TEST2\", width=25, height=2, bg='Firebrick1', command=say_hi)\n",
    "button1.pack(side=tk.LEFT)\n",
    "button2.pack(side=tk.RIGHT)\n",
    "root.mainloop()\n"
   ]
  },
  {
   "cell_type": "code",
   "execution_count": null,
   "id": "cfcc3ec489b48857",
   "metadata": {},
   "outputs": [],
   "source": []
  }
 ],
 "metadata": {
  "kernelspec": {
   "display_name": "Python 3 (ipykernel)",
   "language": "python",
   "name": "python3"
  },
  "language_info": {
   "codemirror_mode": {
    "name": "ipython",
    "version": 3
   },
   "file_extension": ".py",
   "mimetype": "text/x-python",
   "name": "python",
   "nbconvert_exporter": "python",
   "pygments_lexer": "ipython3",
   "version": "3.13.5"
  }
 },
 "nbformat": 4,
 "nbformat_minor": 5
}
